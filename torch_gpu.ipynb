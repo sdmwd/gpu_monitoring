{
 "cells": [
  {
   "cell_type": "markdown",
   "metadata": {},
   "source": [
    "1. Update Conda\n",
    "conda update conda\n",
    "\n",
    "2. Create a New Conda Environment\n",
    "conda create - n myenv python = 3.9\n",
    "\n",
    "3. Activate the new environment:\n",
    "conda activate myenv\n",
    "\n",
    "4. Install CUDA Toolkit 11.7 and cuDNN\n",
    "conda config - -add channels nvidia\n",
    "conda config - -add channels conda-forge\n",
    "conda install cudatoolkit = 11.7 cudnn = 8.1.0\n",
    "\n",
    "5. Install PyTorch with GPU Support\n",
    "conda install pytorch torchvision torchaudio cudatoolkit = 11.7 - c pytorch - c nvidia\n",
    "\n",
    "6. Verify Installation\n",
    "python - -version\n",
    "python\n",
    "import torch\n",
    "print(torch.cuda.is_available())\n",
    "\n",
    "\n",
    "7. In case not working\n",
    "pip install torch == 1.11.0+cu117 torchvision == 0.12.0+cu117 torchaudio == 0.11.0 - -extra-index-url https: // download.pytorch.org/whl/cu117\n",
    "\n"
   ]
  },
  {
   "cell_type": "markdown",
   "metadata": {},
   "source": []
  }
 ],
 "metadata": {
  "language_info": {
   "name": "python"
  }
 },
 "nbformat": 4,
 "nbformat_minor": 2
}
